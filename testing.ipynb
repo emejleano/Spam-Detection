{
 "cells": [
  {
   "cell_type": "code",
   "execution_count": null,
   "metadata": {},
   "outputs": [],
   "source": [
    "import tensorflow as tf\n",
    "import json\n",
    "import base64\n",
    "import requests\n",
    "\n",
    "def prepare_example(email_text):\n",
    "    # Definisikan fitur data Anda\n",
    "    feature = {\n",
    "        \"Text\": tf.train.Feature(bytes_list=tf.train.BytesList(value=[email_text.encode()]))\n",
    "    }\n",
    "\n",
    "    # Buat Example\n",
    "    example = tf.train.Example(features=tf.train.Features(feature=feature))\n",
    "\n",
    "    # Serialisasikan Example menjadi string\n",
    "    example_str = example.SerializeToString()\n",
    "\n",
    "    # Siapkan data JSON\n",
    "    json_data = {\n",
    "        \"signature_name\": \"serving_default\",\n",
    "        \"instances\": [{\"b64\": base64.b64encode(example_str).decode()}]\n",
    "    }\n",
    "\n",
    "    return json.dumps(json_data)\n",
    "\n",
    "# Contoh teks email untuk pengujian\n",
    "json_data = prepare_example(\"Ini adalah email yang sangat mencurigakan dan sepertinya spam!\")\n",
    "\n",
    "# Endpoint model yang disajikan\n",
    "endpoint = \"http://localhost:8501/v1/models/spam-prediction-model:predict\"\n",
    "response = requests.post(endpoint, data=json_data)\n",
    "\n",
    "# Ambil prediksi dari respons\n",
    "prediksi = response.json().get(\"predictions\")\n",
    "if prediksi:\n",
    "    nilai_prediksi = prediksi[0][0]\n",
    "    hasil = \"Spam\" jika nilai_prediksi > 0.5 else \"Ham\"\n",
    "else:\n",
    "    hasil = \"Error: Tidak ada prediksi yang ditemukan dalam respons.\"\n",
    "\n",
    "print(hasil)\n"
   ]
  }
 ],
 "metadata": {
  "language_info": {
   "name": "python"
  }
 },
 "nbformat": 4,
 "nbformat_minor": 2
}
